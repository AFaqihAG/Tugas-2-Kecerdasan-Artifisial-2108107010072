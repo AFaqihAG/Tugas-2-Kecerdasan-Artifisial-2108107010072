{
 "cells": [
  {
   "cell_type": "code",
   "execution_count": 2,
   "metadata": {},
   "outputs": [],
   "source": [
    "import tensorflow as tf\n",
    "import os\n",
    "from keras.preprocessing.image import ImageDataGenerator\n",
    "from tensorflow.keras.optimizers import RMSprop\n",
    "from tensorflow.keras.layers import Dropout\n",
    "from tensorflow.keras import layers, models\n",
    "from tensorflow.keras.callbacks import TensorBoard\n",
    "from tensorflow.keras.utils import plot_model\n",
    "from matplotlib import pyplot as plt\n",
    "import cv2\n",
    "import datetime"
   ]
  },
  {
   "cell_type": "markdown",
   "metadata": {},
   "source": [
    "Link dataset : https://www.kaggle.com/datasets/charunisa/eyes-dataset"
   ]
  },
  {
   "cell_type": "code",
   "execution_count": 3,
   "metadata": {},
   "outputs": [],
   "source": [
    "# Create a TensorBoard callback\n",
    "log_dir = \"logs/\" + datetime.datetime.now().strftime(\"TENSORBOARD\")  # Adjust the log directory as needed\n",
    "tensorboard_callback = TensorBoard(log_dir=log_dir, histogram_freq=1)"
   ]
  },
  {
   "cell_type": "code",
   "execution_count": 4,
   "metadata": {},
   "outputs": [
    {
     "name": "stdout",
     "output_type": "stream",
     "text": [
      "Found 3780 images belonging to 2 classes.\n",
      "Found 1068 images belonging to 2 classes.\n"
     ]
    }
   ],
   "source": [
    "TRAINING_DIR = '/home/faqih/TUGAS2AI/data/training'\n",
    "train_datagen = ImageDataGenerator(\n",
    "                    rescale=1./255,\n",
    "                    rotation_range=20,\n",
    "                    horizontal_flip=True,\n",
    "                    shear_range = 0.2,\n",
    "                    fill_mode = 'nearest',\n",
    "                    validation_split=0.4)\n",
    "  # Normalize pixel values between 0 and 1\n",
    "\n",
    "# Load training data\n",
    "train_generator = train_datagen.flow_from_directory(\n",
    "    TRAINING_DIR,\n",
    "    target_size=(150, 150),  # Resize images to 150x150\n",
    "    batch_size=5,\n",
    "    class_mode='binary'\n",
    "    )\n",
    "\n",
    "        \n",
    "VALIDATION_DIR = '/home/faqih/TUGAS2AI/data/testing'\n",
    "validation_datagen = ImageDataGenerator(rescale=1.0/255.0)  # Normalize pixel values between 0 and 1\n",
    "\n",
    "# Load validation data\n",
    "validation_generator = validation_datagen.flow_from_directory(\n",
    "VALIDATION_DIR,\n",
    "target_size=(150, 150),  # Resize images to 150x150\n",
    "batch_size=5,\n",
    "class_mode='binary')"
   ]
  },
  {
   "cell_type": "code",
   "execution_count": 5,
   "metadata": {},
   "outputs": [],
   "source": [
    "model = tf.keras.models.Sequential([\n",
    "    tf.keras.layers.Conv2D(32, (3,3), activation='relu', input_shape=(150, 150, 3)), # 3 = RGB\n",
    "    tf.keras.layers.MaxPooling2D(2, 2), # Pooling Layer\n",
    "    tf.keras.layers.Conv2D(64, (3,3), activation='relu'),\n",
    "    tf.keras.layers.MaxPooling2D(2,2), # Pooling Layer\n",
    "    tf.keras.layers.Conv2D(128, (3,3), activation='relu'),\n",
    "    tf.keras.layers.MaxPooling2D(2,2), # Pooling Layer\n",
    "    tf.keras.layers.Conv2D(128, (3,3), activation='relu'),\n",
    "    tf.keras.layers.MaxPooling2D(2,2), # Pooling Layer\n",
    "\n",
    "    # from 2D to 1D (Flatten)\n",
    "    tf.keras.layers.Flatten(),\n",
    "    tf.keras.layers.Dropout(0.5),\n",
    "    tf.keras.layers.Dense(512, activation='relu'),\n",
    "    tf.keras.layers.Dense(1, activation='sigmoid')\n",
    "    ])"
   ]
  },
  {
   "cell_type": "code",
   "execution_count": 6,
   "metadata": {},
   "outputs": [
    {
     "name": "stdout",
     "output_type": "stream",
     "text": [
      "Model: \"sequential\"\n",
      "_________________________________________________________________\n",
      " Layer (type)                Output Shape              Param #   \n",
      "=================================================================\n",
      " conv2d (Conv2D)             (None, 148, 148, 32)      896       \n",
      "                                                                 \n",
      " max_pooling2d (MaxPooling2  (None, 74, 74, 32)        0         \n",
      " D)                                                              \n",
      "                                                                 \n",
      " conv2d_1 (Conv2D)           (None, 72, 72, 64)        18496     \n",
      "                                                                 \n",
      " max_pooling2d_1 (MaxPoolin  (None, 36, 36, 64)        0         \n",
      " g2D)                                                            \n",
      "                                                                 \n",
      " conv2d_2 (Conv2D)           (None, 34, 34, 128)       73856     \n",
      "                                                                 \n",
      " max_pooling2d_2 (MaxPoolin  (None, 17, 17, 128)       0         \n",
      " g2D)                                                            \n",
      "                                                                 \n",
      " conv2d_3 (Conv2D)           (None, 15, 15, 128)       147584    \n",
      "                                                                 \n",
      " max_pooling2d_3 (MaxPoolin  (None, 7, 7, 128)         0         \n",
      " g2D)                                                            \n",
      "                                                                 \n",
      " flatten (Flatten)           (None, 6272)              0         \n",
      "                                                                 \n",
      " dropout (Dropout)           (None, 6272)              0         \n",
      "                                                                 \n",
      " dense (Dense)               (None, 512)               3211776   \n",
      "                                                                 \n",
      " dense_1 (Dense)             (None, 1)                 513       \n",
      "                                                                 \n",
      "=================================================================\n",
      "Total params: 3453121 (13.17 MB)\n",
      "Trainable params: 3453121 (13.17 MB)\n",
      "Non-trainable params: 0 (0.00 Byte)\n",
      "_________________________________________________________________\n"
     ]
    }
   ],
   "source": [
    "model.summary()"
   ]
  },
  {
   "cell_type": "code",
   "execution_count": 6,
   "metadata": {},
   "outputs": [
    {
     "name": "stdout",
     "output_type": "stream",
     "text": [
      "Epoch 1/50\n",
      "756/756 [==============================] - 79s 103ms/step - loss: 0.5666 - accuracy: 0.6881 - val_loss: 0.4939 - val_accuracy: 0.7622\n",
      "Epoch 2/50\n",
      "756/756 [==============================] - 78s 103ms/step - loss: 0.3460 - accuracy: 0.8630 - val_loss: 0.2881 - val_accuracy: 0.8923\n",
      "Epoch 3/50\n",
      "756/756 [==============================] - 86s 113ms/step - loss: 0.2601 - accuracy: 0.8992 - val_loss: 0.2154 - val_accuracy: 0.9213\n",
      "Epoch 4/50\n",
      "756/756 [==============================] - 77s 102ms/step - loss: 0.2272 - accuracy: 0.9135 - val_loss: 0.1811 - val_accuracy: 0.9363\n",
      "Epoch 5/50\n",
      "756/756 [==============================] - 73s 97ms/step - loss: 0.2047 - accuracy: 0.9259 - val_loss: 0.2062 - val_accuracy: 0.9223\n",
      "Epoch 6/50\n",
      "756/756 [==============================] - 73s 96ms/step - loss: 0.1963 - accuracy: 0.9291 - val_loss: 0.1881 - val_accuracy: 0.9335\n",
      "Epoch 7/50\n",
      "756/756 [==============================] - 84s 111ms/step - loss: 0.1771 - accuracy: 0.9328 - val_loss: 0.1658 - val_accuracy: 0.9419\n",
      "Epoch 8/50\n",
      "756/756 [==============================] - 83s 110ms/step - loss: 0.1762 - accuracy: 0.9341 - val_loss: 0.1545 - val_accuracy: 0.9391\n",
      "Epoch 9/50\n",
      "756/756 [==============================] - 81s 107ms/step - loss: 0.1622 - accuracy: 0.9402 - val_loss: 0.1441 - val_accuracy: 0.9541\n",
      "Epoch 10/50\n",
      "756/756 [==============================] - 76s 100ms/step - loss: 0.1544 - accuracy: 0.9429 - val_loss: 0.2025 - val_accuracy: 0.9242\n",
      "Epoch 11/50\n",
      "756/756 [==============================] - 76s 100ms/step - loss: 0.1604 - accuracy: 0.9426 - val_loss: 0.1256 - val_accuracy: 0.9607\n",
      "Epoch 12/50\n",
      "756/756 [==============================] - 73s 96ms/step - loss: 0.1533 - accuracy: 0.9439 - val_loss: 0.1547 - val_accuracy: 0.9476\n",
      "Epoch 13/50\n",
      "756/756 [==============================] - 74s 98ms/step - loss: 0.1572 - accuracy: 0.9426 - val_loss: 0.1311 - val_accuracy: 0.9579\n",
      "Epoch 14/50\n",
      "756/756 [==============================] - 74s 98ms/step - loss: 0.1419 - accuracy: 0.9474 - val_loss: 0.1161 - val_accuracy: 0.9588\n",
      "Epoch 15/50\n",
      "756/756 [==============================] - 72s 96ms/step - loss: 0.1428 - accuracy: 0.9447 - val_loss: 0.1146 - val_accuracy: 0.9625\n",
      "Epoch 16/50\n",
      "756/756 [==============================] - 73s 97ms/step - loss: 0.1328 - accuracy: 0.9513 - val_loss: 0.1092 - val_accuracy: 0.9654\n",
      "Epoch 17/50\n",
      "756/756 [==============================] - 73s 96ms/step - loss: 0.1309 - accuracy: 0.9516 - val_loss: 0.1133 - val_accuracy: 0.9579\n",
      "Epoch 18/50\n",
      "756/756 [==============================] - 73s 97ms/step - loss: 0.1285 - accuracy: 0.9516 - val_loss: 0.1103 - val_accuracy: 0.9588\n",
      "Epoch 19/50\n",
      "756/756 [==============================] - 73s 97ms/step - loss: 0.1332 - accuracy: 0.9503 - val_loss: 0.1253 - val_accuracy: 0.9541\n",
      "Epoch 20/50\n",
      "756/756 [==============================] - 73s 96ms/step - loss: 0.1269 - accuracy: 0.9474 - val_loss: 0.1035 - val_accuracy: 0.9579\n",
      "Epoch 21/50\n",
      "756/756 [==============================] - 73s 97ms/step - loss: 0.1239 - accuracy: 0.9503 - val_loss: 0.1201 - val_accuracy: 0.9560\n",
      "Epoch 22/50\n",
      "756/756 [==============================] - 73s 96ms/step - loss: 0.1165 - accuracy: 0.9571 - val_loss: 0.1299 - val_accuracy: 0.9597\n",
      "Epoch 23/50\n",
      "756/756 [==============================] - 73s 97ms/step - loss: 0.1239 - accuracy: 0.9540 - val_loss: 0.1063 - val_accuracy: 0.9644\n",
      "Epoch 24/50\n",
      "756/756 [==============================] - 73s 96ms/step - loss: 0.1190 - accuracy: 0.9587 - val_loss: 0.1044 - val_accuracy: 0.9635\n",
      "Epoch 25/50\n",
      "756/756 [==============================] - 73s 96ms/step - loss: 0.1165 - accuracy: 0.9577 - val_loss: 0.1260 - val_accuracy: 0.9569\n",
      "Epoch 26/50\n",
      "756/756 [==============================] - 71s 94ms/step - loss: 0.1151 - accuracy: 0.9582 - val_loss: 0.1144 - val_accuracy: 0.9588\n",
      "Epoch 27/50\n",
      "756/756 [==============================] - 67s 89ms/step - loss: 0.1137 - accuracy: 0.9595 - val_loss: 0.1084 - val_accuracy: 0.9588\n",
      "Epoch 28/50\n",
      "756/756 [==============================] - 67s 89ms/step - loss: 0.1122 - accuracy: 0.9556 - val_loss: 0.1157 - val_accuracy: 0.9635\n",
      "Epoch 29/50\n",
      "756/756 [==============================] - 67s 89ms/step - loss: 0.1029 - accuracy: 0.9624 - val_loss: 0.1499 - val_accuracy: 0.9504\n",
      "Epoch 30/50\n",
      "756/756 [==============================] - 67s 89ms/step - loss: 0.1118 - accuracy: 0.9611 - val_loss: 0.1050 - val_accuracy: 0.9663\n",
      "Epoch 31/50\n",
      "756/756 [==============================] - 67s 89ms/step - loss: 0.1126 - accuracy: 0.9616 - val_loss: 0.1137 - val_accuracy: 0.9579\n",
      "Epoch 32/50\n",
      "756/756 [==============================] - 67s 89ms/step - loss: 0.1139 - accuracy: 0.9601 - val_loss: 0.1160 - val_accuracy: 0.9635\n",
      "Epoch 33/50\n",
      "756/756 [==============================] - 68s 89ms/step - loss: 0.1075 - accuracy: 0.9614 - val_loss: 0.1484 - val_accuracy: 0.9522\n",
      "Epoch 34/50\n",
      "756/756 [==============================] - 67s 89ms/step - loss: 0.1053 - accuracy: 0.9619 - val_loss: 0.1365 - val_accuracy: 0.9579\n",
      "Epoch 35/50\n",
      "756/756 [==============================] - 67s 89ms/step - loss: 0.1174 - accuracy: 0.9611 - val_loss: 0.1036 - val_accuracy: 0.9625\n",
      "Epoch 36/50\n",
      "756/756 [==============================] - 67s 89ms/step - loss: 0.1124 - accuracy: 0.9590 - val_loss: 0.0960 - val_accuracy: 0.9616\n",
      "Epoch 37/50\n",
      "756/756 [==============================] - 67s 89ms/step - loss: 0.1037 - accuracy: 0.9627 - val_loss: 0.1085 - val_accuracy: 0.9625\n",
      "Epoch 38/50\n",
      "756/756 [==============================] - 67s 89ms/step - loss: 0.1045 - accuracy: 0.9614 - val_loss: 0.1142 - val_accuracy: 0.9588\n",
      "Epoch 39/50\n",
      "756/756 [==============================] - 67s 89ms/step - loss: 0.0993 - accuracy: 0.9614 - val_loss: 0.1078 - val_accuracy: 0.9607\n",
      "Epoch 40/50\n",
      "756/756 [==============================] - 73s 96ms/step - loss: 0.1064 - accuracy: 0.9616 - val_loss: 0.1011 - val_accuracy: 0.9616\n",
      "Epoch 41/50\n",
      "756/756 [==============================] - 76s 101ms/step - loss: 0.1025 - accuracy: 0.9632 - val_loss: 0.0975 - val_accuracy: 0.9625\n",
      "Epoch 42/50\n",
      "756/756 [==============================] - 76s 100ms/step - loss: 0.0986 - accuracy: 0.9630 - val_loss: 0.1076 - val_accuracy: 0.9635\n",
      "Epoch 43/50\n",
      "756/756 [==============================] - 76s 100ms/step - loss: 0.1079 - accuracy: 0.9643 - val_loss: 0.1007 - val_accuracy: 0.9672\n",
      "Epoch 44/50\n",
      "756/756 [==============================] - 76s 100ms/step - loss: 0.1053 - accuracy: 0.9640 - val_loss: 0.1237 - val_accuracy: 0.9588\n",
      "Epoch 45/50\n",
      "756/756 [==============================] - 78s 103ms/step - loss: 0.1022 - accuracy: 0.9664 - val_loss: 0.1092 - val_accuracy: 0.9607\n",
      "Epoch 46/50\n",
      "756/756 [==============================] - 76s 100ms/step - loss: 0.0978 - accuracy: 0.9656 - val_loss: 0.1367 - val_accuracy: 0.9588\n",
      "Epoch 47/50\n",
      "756/756 [==============================] - 74s 98ms/step - loss: 0.0952 - accuracy: 0.9685 - val_loss: 0.0956 - val_accuracy: 0.9682\n",
      "Epoch 48/50\n",
      "756/756 [==============================] - 77s 102ms/step - loss: 0.0932 - accuracy: 0.9672 - val_loss: 0.1109 - val_accuracy: 0.9616\n",
      "Epoch 49/50\n",
      "756/756 [==============================] - 76s 100ms/step - loss: 0.0962 - accuracy: 0.9653 - val_loss: 0.0988 - val_accuracy: 0.9663\n",
      "Epoch 50/50\n",
      "756/756 [==============================] - 75s 100ms/step - loss: 0.0935 - accuracy: 0.9656 - val_loss: 0.1192 - val_accuracy: 0.9625\n"
     ]
    }
   ],
   "source": [
    "# Compile a Model\n",
    "model.compile(\n",
    "    loss='binary_crossentropy',\n",
    "    optimizer=RMSprop(learning_rate=1e-4),\n",
    "    metrics=['accuracy']\n",
    "    )   \n",
    "\n",
    "# Train the model\n",
    "history = model.fit(\n",
    "    train_generator,\n",
    "    epochs=50,\n",
    "    verbose=1,\n",
    "    validation_data=validation_generator,\n",
    "    callbacks=[tensorboard_callback]\n",
    "    )"
   ]
  },
  {
   "cell_type": "code",
   "execution_count": 7,
   "metadata": {},
   "outputs": [
    {
     "name": "stderr",
     "output_type": "stream",
     "text": [
      "/home/faqih/.local/lib/python3.10/site-packages/keras/src/engine/training.py:3103: UserWarning: You are saving your model as an HDF5 file via `model.save()`. This file format is considered legacy. We recommend using instead the native Keras format, e.g. `model.save('my_model.keras')`.\n",
      "  saving_api.save_model(\n"
     ]
    }
   ],
   "source": [
    "# Save the model to a file\n",
    "model.save('model_punyafaqih.h5')"
   ]
  },
  {
   "cell_type": "code",
   "execution_count": 8,
   "metadata": {},
   "outputs": [],
   "source": [
    "# Load the saved model\n",
    "load_model = tf.keras.models.load_model('model_punyafaqih.h5')"
   ]
  },
  {
   "cell_type": "code",
   "execution_count": 9,
   "metadata": {},
   "outputs": [
    {
     "name": "stdout",
     "output_type": "stream",
     "text": [
      "214/214 [==============================] - 6s 26ms/step - loss: 0.1192 - accuracy: 0.9625\n",
      "Test accuracy: 0.9625468254089355\n"
     ]
    }
   ],
   "source": [
    "# Evaluate the loaded model with test data\n",
    "test_loss, test_acc = load_model.evaluate(validation_generator)\n",
    "print(f'Test accuracy: {test_acc}')"
   ]
  },
  {
   "cell_type": "code",
   "execution_count": 12,
   "metadata": {},
   "outputs": [
    {
     "data": {
      "image/png": "[encoded data removed]",
      "text/plain": [
       "<Figure size 640x480 with 1 Axes>"
      ]
     },
     "metadata": {},
     "output_type": "display_data"
    }
   ],
   "source": [
    "import matplotlib.pyplot as plt\n",
    "\n",
    "# Retrieve a list of list results on training and test data sets for each training epoch\n",
    "acc = history.history['accuracy']\n",
    "val_acc = history.history['val_accuracy']\n",
    "\n",
    "# Plot training and validation accuracy per epoch\n",
    "plt.plot(acc, label='Training Accuracy')\n",
    "plt.plot(val_acc, label='Validation Accuracy')\n",
    "plt.title('Training and Validation Accuracy')\n",
    "plt.xlabel('Epoch')\n",
    "plt.ylabel('Accuracy')\n",
    "plt.legend(loc='upper left')\n",
    "\n",
    "# Specify the directory and filename for saving the plot\n",
    "save_dir = '/home/faqih/TUGAS2AI/plot'  # Change to your desired directory\n",
    "save_filename = 'train_test_plot_punyafaqih.png'  # Change to your desired filename\n",
    "\n",
    "# Save the plot to the specified directory and filename\n",
    "plt.savefig(os.path.join(save_dir, save_filename))\n",
    "\n",
    "# Display the plot (optional)\n",
    "plt.show()\n"
   ]
  },
  {
   "cell_type": "code",
   "execution_count": 31,
   "metadata": {},
   "outputs": [],
   "source": [
    "from keras.preprocessing import image\n",
    "from keras.models import load_model\n",
    "import numpy as np\n",
    "\n",
    "# Load your trained model (ensure the path is correct)\n",
    "model_path = '/home/faqih/TUGAS2AI/model_punyafaqih.h5'\n",
    "loaded_model = load_model(model_path)\n",
    "\n",
    "def predict_image_class(image_path, model):\n",
    "    img = image.load_img(image_path, target_size=(150, 150))\n",
    "    x = image.img_to_array(img)\n",
    "    x = np.expand_dims(x, axis=0)\n",
    "    classes = model.predict(x)\n",
    "    return classes[0][0]\n",
    "\n",
    "def upload_and_predict():\n",
    "    image_path = input(\"Enter the file path of the image: \")\n",
    "\n",
    "    confidence = predict_image_class(image_path, loaded_model)\n",
    "    \n",
    "    if confidence > 0.5:\n",
    "        print(\"Open eyes\")\n",
    "    else:\n",
    "        print(\"Closed eyes\")\n",
    "\n",
    "    # Display the image\n",
    "    image_to_be_display = cv2.imread(image_path, cv2.COLOR_BGR2RGB)\n",
    "    image_rgb = cv2.cvtColor(image_to_be_display, cv2.COLOR_BGR2RGB)\n",
    "\n",
    "    plt.imshow(image_rgb)\n",
    "    plt.axis('off')\n",
    "    plt.show()\n",
    "    print()\n",
    "    print()\n",
    "\n",
    "def upload_and_predict_repeated(iterate):\n",
    "    for i in range(1, iterate+1):\n",
    "        print(\"Image number \" + str(i))\n",
    "        upload_and_predict()"
   ]
  },
  {
   "cell_type": "code",
   "execution_count": 33,
   "metadata": {},
   "outputs": [
    {
     "name": "stdout",
     "output_type": "stream",
     "text": [
      "1/1 [==============================] - 0s 36ms/step\n",
      "Open eyes\n"
     ]
    },
    {
     "data": {
      "image/png": "[encoded data removed]",
      "text/plain": [
       "<Figure size 640x480 with 1 Axes>"
      ]
     },
     "metadata": {},
     "output_type": "display_data"
    },
    {
     "name": "stdout",
     "output_type": "stream",
     "text": [
      "\n",
      "\n"
     ]
    }
   ],
   "source": [
    "upload_and_predict()"
   ]
  },
  {
   "cell_type": "code",
   "execution_count": 35,
   "metadata": {},
   "outputs": [
    {
     "name": "stdout",
     "output_type": "stream",
     "text": [
      "1/1 [==============================] - 0s 37ms/step\n",
      "Open eyes\n"
     ]
    },
    {
     "data": {
      "image/png": "[encoded data removed]",
      "text/plain": [
       "<Figure size 640x480 with 1 Axes>"
      ]
     },
     "metadata": {},
     "output_type": "display_data"
    },
    {
     "name": "stdout",
     "output_type": "stream",
     "text": [
      "\n",
      "\n"
     ]
    }
   ],
   "source": [
    "upload_and_predict()"
   ]
  },
  {
   "cell_type": "code",
   "execution_count": 36,
   "metadata": {},
   "outputs": [
    {
     "name": "stdout",
     "output_type": "stream",
     "text": [
      "1/1 [==============================] - 0s 36ms/step\n",
      "Closed eyes\n"
     ]
    },
    {
     "data": {
      "image/png": "[encoded data removed]",
      "text/plain": [
       "<Figure size 640x480 with 1 Axes>"
      ]
     },
     "metadata": {},
     "output_type": "display_data"
    },
    {
     "name": "stdout",
     "output_type": "stream",
     "text": [
      "\n",
      "\n"
     ]
    }
   ],
   "source": [
    "upload_and_predict()"
   ]
  }
 ],
 "metadata": {
  "kernelspec": {
   "display_name": "Python 3",
   "language": "python",
   "name": "python3"
  },
  "language_info": {
   "codemirror_mode": {
    "name": "ipython",
    "version": 3
   },
   "file_extension": ".py",
   "mimetype": "text/x-python",
   "name": "python",
   "nbconvert_exporter": "python",
   "pygments_lexer": "ipython3",
   "version": "3.10.12"
  }
 },
 "nbformat": 4,
 "nbformat_minor": 2
}
